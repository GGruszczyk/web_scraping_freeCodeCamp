{
  "cells": [
    {
      "cell_type": "markdown",
      "metadata": {
        "id": "HFbPvfyu3yaS"
      },
      "source": [
        "<center>\n",
        "<img src=\"https://d33wubrfki0l68.cloudfront.net/774b60156d8f103170dc66f3ad10310941114653/da262/img/fcc_secondary_large.svg\" width=\"600\" height=\"auto\"/>\n",
        "\n",
        "# **Web scraping con Python**\n",
        "\n",
        "## *Material complementario del curso dictado por [Gustavo Juantorena](https://github.com/GEJ1) para **freeCodecamp** en español.*\n",
        "\n",
        "### **Link a la web de práctica: https://scrapepark.org/courses/spanish/**\n"
      ]
    },
    {
      "cell_type": "markdown",
      "metadata": {
        "id": "2T6lp5_w9Gi0"
      },
      "source": [
        "<center>\n",
        "\n",
        "### **Importante**: Los cambios que hagan en este cuaderno de Colab no se guardarán, lo ideal sería que hagan una copia del mismo en sus respectivas cuentas de Google Drive de la siguiente manera:\n",
        "\n",
        "### *Archivo > Guardar una copia en drive*\n"
      ]
    },
    {
      "cell_type": "markdown",
      "metadata": {
        "id": "UE_kUe2dlbbF"
      },
      "source": [
        "# **Hoja de ruta**\n",
        "\n",
        "## 1. Pedidos HTTP con **Requests**\n",
        "## 2. Uso basico de **APIs**\n",
        "## 3. Web Scraping con **Beautiful Soup**\n",
        "\n",
        "\n",
        "\n",
        "\n"
      ]
    },
    {
      "cell_type": "markdown",
      "metadata": {
        "id": "5UQcVg3CKSi1"
      },
      "source": [
        "# **Pedidos HTTP con requests**\n"
      ]
    },
    {
      "cell_type": "code",
      "execution_count": null,
      "metadata": {
        "id": "32ZIp-taK6PE"
      },
      "outputs": [],
      "source": [
        "import requests\n",
        "import json"
      ]
    },
    {
      "cell_type": "code",
      "execution_count": null,
      "metadata": {
        "id": "bc1hU64tLv-v"
      },
      "outputs": [],
      "source": [
        "# Hacemos un pedido a la página de wikipedia\n",
        "URL = 'https://es.wikipedia.org/'\n",
        "\n",
        "# Guardamos el objeto que nos devuelve\n",
        "respuesta = requests.get(URL)\n",
        "\n",
        "# print(f'Tipo de Objeto: {type(respuesta)} \\n')\n",
        "# print(f'Código de estado: {respuesta.status_code} \\n')\n",
        "print(f'Data: {respuesta.text} \\n')"
      ]
    },
    {
      "cell_type": "markdown",
      "metadata": {
        "id": "z1AgS5HxPIPg"
      },
      "source": [
        "## **Headers**\n",
        "\n",
        "Una serie de datos que acompañan al pedido. Para saber más: https://developer.mozilla.org/en-US/docs/Web/HTTP/Headers\n",
        "\n",
        "\n",
        "El objeto `Response` de `requests` tiene los siguientes elementos principales:\n",
        "\n",
        "* `.text`\n",
        "* `.content`\n",
        "* `.json()`\n",
        "* `.status_code`"
      ]
    },
    {
      "cell_type": "code",
      "execution_count": null,
      "metadata": {
        "id": "HBifgfShPKlV"
      },
      "outputs": [],
      "source": [
        "URL = 'https://scrapepark.org/courses/spanish/'\n",
        "\n",
        "headers = {\n",
        "    'User-Agent': 'Mozilla/5.0 (X11; Ubuntu; Linux x86_64; rv:52.0) Gecko/20100101 Firefox/52.0'\n",
        "}\n",
        "respuesta = requests.get(URL, headers=headers)"
      ]
    },
    {
      "cell_type": "code",
      "execution_count": null,
      "metadata": {
        "id": "sbA4w5LXhb-F"
      },
      "outputs": [],
      "source": [
        "respuesta.text"
      ]
    },
    {
      "cell_type": "markdown",
      "metadata": {
        "id": "6yF0A4Nl6K2d"
      },
      "source": [
        "Veamoslo en la práctica utilizando la siguiente web: http://httpbin.org/headers (útil para testear pedidos HTTP).\n"
      ]
    },
    {
      "cell_type": "code",
      "execution_count": null,
      "metadata": {
        "id": "yGvs4upI6KLv"
      },
      "outputs": [],
      "source": [
        "URL = 'http://httpbin.org/headers'\n",
        "resp = requests.get(URL)\n",
        "\n",
        "print('Respuesta sin headers:')\n",
        "print(resp.text)"
      ]
    },
    {
      "cell_type": "code",
      "execution_count": null,
      "metadata": {
        "id": "X94bg5Lfh1Uw"
      },
      "outputs": [],
      "source": [
        "print('Respuesta con headers:')\n",
        "nuestros_headers = {\n",
        "    'user-agent': 'Mozilla/5.0 (X11; Linux x86_64) AppleWebKit/537.36 (KHTML, like Gecko) Chrome/84.0.4147.105 Safari/537.36'\n",
        "    }\n",
        "resp_con_headers = requests.get(URL, headers = nuestros_headers)\n",
        "print(resp_con_headers.text)"
      ]
    },
    {
      "cell_type": "markdown",
      "metadata": {
        "id": "NFVDnesOKZ7N"
      },
      "source": [
        "# **Uso basico de APIs**"
      ]
    },
    {
      "cell_type": "markdown",
      "metadata": {
        "id": "Dd60DCLFhhvP"
      },
      "source": [
        "### Uso de API de manera directa"
      ]
    },
    {
      "cell_type": "markdown",
      "metadata": {
        "id": "i3rq7-cOLHuV"
      },
      "source": [
        "[Sunset and sunrise times API](https://sunrise-sunset.org/api)\n",
        "\n",
        "**Sirve para obtener la hora del amanecer y el ocaso de un determinado día**\n",
        "\n",
        "*Parámetros:*\n",
        "\n",
        "\n",
        "*  **lat** (float): Latitud en grados decimales(Obligatorio)\n",
        "*  **lng** (float): Longitud en grados decimales (obligatorio)\n",
        "*  **date** (string): Fecha en formato AAAA-MM-DD (opcional, por defecto usa el día actual)\n",
        "\n",
        "*Estructura de la query:*\n",
        "\n",
        "`https://api.sunrise-sunset.org/json?`\n",
        "\n",
        "`lat=36.7201600`\n",
        "\n",
        "`&`\n",
        "\n",
        "`lng=-4.4203400`\n",
        "\n",
        "`&`\n",
        "\n",
        "`date=2021-07-26`"
      ]
    },
    {
      "cell_type": "code",
      "execution_count": null,
      "metadata": {
        "id": "EIFWdHPVJsEi"
      },
      "outputs": [],
      "source": [
        "# Definimos los parametros de nuestra query\n",
        "latitud = -34.6\n",
        "longitud = -58.4\n",
        "fecha = '1816-07-09' # AAAA-MM-DD"
      ]
    },
    {
      "cell_type": "code",
      "execution_count": null,
      "metadata": {
        "id": "oe0bMEQBJubx"
      },
      "outputs": [],
      "source": [
        "# Hacemos el pedido y guardamos la respuesta en una nueva variable\n",
        "respuesta_sunset = requests.get(f'https://api.sunrise-sunset.org/json?lat={latitud}&lng={longitud}&date={fecha}')"
      ]
    },
    {
      "cell_type": "code",
      "execution_count": null,
      "metadata": {
        "id": "1KBTJWoYllvx",
        "colab": {
          "base_uri": "https://localhost:8080/"
        },
        "outputId": "fcf9f022-80bd-4780-a774-e5e69b241c1c"
      },
      "outputs": [
        {
          "output_type": "execute_result",
          "data": {
            "text/plain": [
              "requests.models.Response"
            ]
          },
          "metadata": {},
          "execution_count": 11
        }
      ],
      "source": [
        "type(respuesta_sunset)"
      ]
    },
    {
      "cell_type": "code",
      "execution_count": null,
      "metadata": {
        "id": "dZkY8OHKJxFN",
        "colab": {
          "base_uri": "https://localhost:8080/"
        },
        "outputId": "9c360e48-d20a-45bd-ca5b-ab6216148ae4"
      },
      "outputs": [
        {
          "output_type": "stream",
          "name": "stdout",
          "text": [
            "{'results': {'sunrise': '10:58:20 AM', 'sunset': '8:58:27 PM', 'solar_noon': '3:58:24 PM', 'day_length': '10:00:07', 'civil_twilight_begin': '10:32:04 AM', 'civil_twilight_end': '9:24:44 PM', 'nautical_twilight_begin': '10:00:49 AM', 'nautical_twilight_end': '9:55:58 PM', 'astronomical_twilight_begin': '9:30:19 AM', 'astronomical_twilight_end': '10:26:29 PM'}, 'status': 'OK'}\n"
          ]
        }
      ],
      "source": [
        "# Para des-serializar el objeto (que era tipo 'HTTPResponse') y cargarlo como json\n",
        "datos_sunset = respuesta_sunset.json()\n",
        "print(datos_sunset)\n"
      ]
    },
    {
      "cell_type": "code",
      "execution_count": null,
      "metadata": {
        "id": "7kr6nPiQl1gK",
        "colab": {
          "base_uri": "https://localhost:8080/"
        },
        "outputId": "757a242d-289f-4577-ebf6-089a9c07549c"
      },
      "outputs": [
        {
          "output_type": "execute_result",
          "data": {
            "text/plain": [
              "dict_keys(['results', 'status'])"
            ]
          },
          "metadata": {},
          "execution_count": 13
        }
      ],
      "source": [
        "type(datos_sunset)\n",
        "datos_sunset.keys()"
      ]
    },
    {
      "cell_type": "code",
      "execution_count": null,
      "metadata": {
        "id": "Z8lcUaepJ2IJ",
        "colab": {
          "base_uri": "https://localhost:8080/"
        },
        "outputId": "e4a9a2d9-4379-4698-e772-45a8fbfac833"
      },
      "outputs": [
        {
          "output_type": "stream",
          "name": "stdout",
          "text": [
            "Status: OK\n"
          ]
        }
      ],
      "source": [
        "# Evaluamos el status del pedido\n",
        "sunset_status = datos_sunset['status']\n",
        "print(f'Status: {sunset_status}')"
      ]
    },
    {
      "cell_type": "code",
      "execution_count": null,
      "metadata": {
        "id": "AVf-wnSKmAKg",
        "colab": {
          "base_uri": "https://localhost:8080/",
          "height": 36
        },
        "outputId": "c454cff3-1dfe-4750-eae9-40ca49affea1"
      },
      "outputs": [
        {
          "output_type": "execute_result",
          "data": {
            "text/plain": [
              "'8:58:27 PM'"
            ],
            "application/vnd.google.colaboratory.intrinsic+json": {
              "type": "string"
            }
          },
          "metadata": {},
          "execution_count": 15
        }
      ],
      "source": [
        "datos_sunset['results']['sunset']"
      ]
    },
    {
      "cell_type": "code",
      "execution_count": null,
      "metadata": {
        "id": "vDCpwey_J6J1",
        "colab": {
          "base_uri": "https://localhost:8080/"
        },
        "outputId": "619675b9-0f59-47d0-da05-c6c82aaa7bbe"
      },
      "outputs": [
        {
          "output_type": "stream",
          "name": "stdout",
          "text": [
            "El 1816-07-09 el sol se ocultó a las 8:58:27 PM (UTC)\n"
          ]
        }
      ],
      "source": [
        "# Podemos ver su contenido ya que es son diccionarios anidados:\n",
        "sunset = datos_sunset['results']['sunset']\n",
        "print(f'El {fecha} el sol se ocultó a las {sunset} (UTC)')"
      ]
    },
    {
      "cell_type": "code",
      "execution_count": null,
      "metadata": {
        "id": "_1N7IJIiKIIC",
        "colab": {
          "base_uri": "https://localhost:8080/"
        },
        "outputId": "6ddeecdd-6aeb-40c1-d288-e9682edb1ad7"
      },
      "outputs": [
        {
          "output_type": "stream",
          "name": "stdout",
          "text": [
            "Iterando data_sunset['results']:\n",
            "sunrise\n",
            "sunset\n",
            "solar_noon\n",
            "day_length\n",
            "civil_twilight_begin\n",
            "civil_twilight_end\n",
            "nautical_twilight_begin\n",
            "nautical_twilight_end\n",
            "astronomical_twilight_begin\n",
            "astronomical_twilight_end\n"
          ]
        }
      ],
      "source": [
        "# tambien podriamos iterar sobre sus claves\n",
        "print(\"Iterando data_sunset['results']:\")\n",
        "for elemento in datos_sunset['results']:\n",
        "  print(elemento)"
      ]
    },
    {
      "cell_type": "markdown",
      "metadata": {
        "id": "KcHglp06hnfy"
      },
      "source": [
        "### **Uso de API por medio de una librería: Wikipedia**\n",
        "\n",
        "Wikipedia-API es un *wrapper* de Python fácil de usar para la API de Wikipedia. Admite la extracción de textos, secciones, enlaces, categorías, traducciones, etc.\n",
        "\n",
        "Repositorio: https://github.com/martin-majlis/Wikipedia-API\n",
        "\n",
        "Documentación: https://wikipedia-api.readthedocs.io/en/latest/README.html\n",
        "\n",
        "\n",
        "\n",
        "\n"
      ]
    },
    {
      "cell_type": "code",
      "execution_count": null,
      "metadata": {
        "id": "EqWcjExWiihS",
        "colab": {
          "base_uri": "https://localhost:8080/",
          "height": 1000
        },
        "outputId": "37af8b1c-f2b3-41cb-e72b-0744d9dac93c"
      },
      "outputs": [
        {
          "output_type": "stream",
          "name": "stdout",
          "text": [
            "Using pip 23.1.2 from /usr/local/lib/python3.10/dist-packages/pip (python 3.10)\n",
            "Collecting wikipedia-api==0.5.8\n",
            "  Downloading Wikipedia_API-0.5.8-py3-none-any.whl (13 kB)\n",
            "Collecting requests (from wikipedia-api==0.5.8)\n",
            "  Downloading requests-2.31.0-py3-none-any.whl (62 kB)\n",
            "\u001b[2K     \u001b[90m━━━━━━━━━━━━━━━━━━━━━━━━━━━━━━━━━━━━━━━━\u001b[0m \u001b[32m62.6/62.6 kB\u001b[0m \u001b[31m1.9 MB/s\u001b[0m eta \u001b[36m0:00:00\u001b[0m\n",
            "\u001b[?25hCollecting charset-normalizer<4,>=2 (from requests->wikipedia-api==0.5.8)\n",
            "  Downloading charset_normalizer-3.2.0-cp310-cp310-manylinux_2_17_x86_64.manylinux2014_x86_64.whl (201 kB)\n",
            "\u001b[2K     \u001b[90m━━━━━━━━━━━━━━━━━━━━━━━━━━━━━━━━━━━━━━━\u001b[0m \u001b[32m201.8/201.8 kB\u001b[0m \u001b[31m8.6 MB/s\u001b[0m eta \u001b[36m0:00:00\u001b[0m\n",
            "\u001b[?25hCollecting idna<4,>=2.5 (from requests->wikipedia-api==0.5.8)\n",
            "  Downloading idna-3.4-py3-none-any.whl (61 kB)\n",
            "\u001b[2K     \u001b[90m━━━━━━━━━━━━━━━━━━━━━━━━━━━━━━━━━━━━━━━━\u001b[0m \u001b[32m61.5/61.5 kB\u001b[0m \u001b[31m5.1 MB/s\u001b[0m eta \u001b[36m0:00:00\u001b[0m\n",
            "\u001b[?25hCollecting urllib3<3,>=1.21.1 (from requests->wikipedia-api==0.5.8)\n",
            "  Downloading urllib3-2.0.5-py3-none-any.whl (123 kB)\n",
            "\u001b[2K     \u001b[90m━━━━━━━━━━━━━━━━━━━━━━━━━━━━━━━━━━━━━━\u001b[0m \u001b[32m123.8/123.8 kB\u001b[0m \u001b[31m10.9 MB/s\u001b[0m eta \u001b[36m0:00:00\u001b[0m\n",
            "\u001b[?25hCollecting certifi>=2017.4.17 (from requests->wikipedia-api==0.5.8)\n",
            "  Downloading certifi-2023.7.22-py3-none-any.whl (158 kB)\n",
            "\u001b[2K     \u001b[90m━━━━━━━━━━━━━━━━━━━━━━━━━━━━━━━━━━━━━━\u001b[0m \u001b[32m158.3/158.3 kB\u001b[0m \u001b[31m16.2 MB/s\u001b[0m eta \u001b[36m0:00:00\u001b[0m\n",
            "\u001b[?25hInstalling collected packages: urllib3, idna, charset-normalizer, certifi, requests, wikipedia-api\n",
            "  Attempting uninstall: urllib3\n",
            "    Found existing installation: urllib3 2.0.4\n",
            "    Uninstalling urllib3-2.0.4:\n",
            "      Removing file or directory /usr/local/lib/python3.10/dist-packages/urllib3-2.0.4.dist-info/\n",
            "      Removing file or directory /usr/local/lib/python3.10/dist-packages/urllib3/\n",
            "      Successfully uninstalled urllib3-2.0.4\n",
            "  Attempting uninstall: idna\n",
            "    Found existing installation: idna 3.4\n",
            "    Uninstalling idna-3.4:\n",
            "      Removing file or directory /usr/local/lib/python3.10/dist-packages/idna-3.4.dist-info/\n",
            "      Removing file or directory /usr/local/lib/python3.10/dist-packages/idna/\n",
            "      Successfully uninstalled idna-3.4\n",
            "  Attempting uninstall: charset-normalizer\n",
            "    Found existing installation: charset-normalizer 3.2.0\n",
            "    Uninstalling charset-normalizer-3.2.0:\n",
            "      Removing file or directory /usr/local/bin/normalizer\n",
            "      Removing file or directory /usr/local/lib/python3.10/dist-packages/charset_normalizer-3.2.0.dist-info/\n",
            "      Removing file or directory /usr/local/lib/python3.10/dist-packages/charset_normalizer/\n",
            "      Successfully uninstalled charset-normalizer-3.2.0\n",
            "  changing mode of /usr/local/bin/normalizer to 755\n",
            "  Attempting uninstall: certifi\n",
            "    Found existing installation: certifi 2023.7.22\n",
            "    Uninstalling certifi-2023.7.22:\n",
            "      Removing file or directory /usr/local/lib/python3.10/dist-packages/certifi-2023.7.22.dist-info/\n",
            "      Removing file or directory /usr/local/lib/python3.10/dist-packages/certifi/\n",
            "      Successfully uninstalled certifi-2023.7.22\n",
            "  Attempting uninstall: requests\n",
            "    Found existing installation: requests 2.31.0\n",
            "    Uninstalling requests-2.31.0:\n",
            "      Removing file or directory /usr/local/lib/python3.10/dist-packages/requests-2.31.0.dist-info/\n",
            "      Removing file or directory /usr/local/lib/python3.10/dist-packages/requests/\n",
            "      Successfully uninstalled requests-2.31.0\n",
            "Successfully installed certifi-2023.7.22 charset-normalizer-3.2.0 idna-3.4 requests-2.31.0 urllib3-2.0.5 wikipedia-api-0.5.8\n"
          ]
        },
        {
          "output_type": "display_data",
          "data": {
            "application/vnd.colab-display-data+json": {
              "pip_warning": {
                "packages": [
                  "certifi",
                  "charset_normalizer",
                  "requests"
                ]
              }
            }
          },
          "metadata": {}
        }
      ],
      "source": [
        "# Instalamos el paquete porque no viene con Colab\n",
        "!pip3 install --force-reinstall -v  \"wikipedia-api==0.5.8\""
      ]
    },
    {
      "cell_type": "code",
      "execution_count": null,
      "metadata": {
        "id": "9WTgRAA3sjdG",
        "colab": {
          "base_uri": "https://localhost:8080/"
        },
        "outputId": "fba93ec4-d9df-4f8a-a4fa-6a8f6ea51d9f"
      },
      "outputs": [
        {
          "output_type": "stream",
          "name": "stdout",
          "text": [
            "(0, 5, 8)\n"
          ]
        }
      ],
      "source": [
        "# Ahora si podemos importarlo\n",
        "import wikipediaapi\n",
        "\n",
        "# Chequear versión\n",
        "print(wikipediaapi.__version__)"
      ]
    },
    {
      "cell_type": "code",
      "execution_count": null,
      "metadata": {
        "id": "VLY7a8imigip",
        "colab": {
          "base_uri": "https://localhost:8080/"
        },
        "outputId": "0633f7a3-de3a-49d8-a3f8-78d0e71f4815"
      },
      "outputs": [
        {
          "output_type": "stream",
          "name": "stdout",
          "text": [
            "wikipedia_programacion es un objeto de tipo: \n",
            " \n",
            "<class 'wikipediaapi.WikipediaPage'>\n"
          ]
        }
      ],
      "source": [
        "# Instanciamos la clase wikipediaapi y utilizamos el metodo Wikipedia con el parametro de idioma\n",
        "IDIOMA = 'es'\n",
        "wiki_wiki = wikipediaapi.Wikipedia(IDIOMA)\n",
        "\n",
        "# Usamos el metodo page para y hacemos un pedido con una palabra clave\n",
        "PALABRA_CLAVE = 'programación'\n",
        "wikipedia_programacion = wiki_wiki.page(PALABRA_CLAVE)\n",
        "\n",
        "print(f'wikipedia_programacion es un objeto de tipo: \\n \\n{type(wikipedia_programacion)}')"
      ]
    },
    {
      "cell_type": "code",
      "execution_count": null,
      "metadata": {
        "id": "dK5pdTsYivt8",
        "colab": {
          "base_uri": "https://localhost:8080/"
        },
        "outputId": "c03b76af-57e6-4bcd-8226-714a98ad53ee"
      },
      "outputs": [
        {
          "output_type": "stream",
          "name": "stdout",
          "text": [
            "programación\n",
            " \n",
            "La programación es el proceso de crear un conjunto de instrucciones que le dicen a una computadora como realizar algún tipo de tarea. Pero no solo la acción de escribir un código para que la computadora o el software lo ejecute. Incluye, además, todas las tareas necesarias para que el código funcione correctamente y cumpla el objetivo para el cual se escribió.[1]​ \n",
            "En la actualidad, la noción de programación se encuentra muy asociada a la creación de aplicaciones de informática y videojuegos. En este sentido, es el proceso por el cual una persona desarrolla un programa, valiéndose de una herramienta que le permita escribir el código (el cual puede estar en uno o varios lenguajes, como C++, Java y Python, entre muchos otros) y de otra que sea capaz de “traducirlo” a lo que se conoce como lenguaje de máquina, que puede \"comprender\" el microprocesador.[2]​\n"
          ]
        }
      ],
      "source": [
        "# Resumen\n",
        "print(wikipedia_programacion.title)\n",
        "print(' ')\n",
        "print(wikipedia_programacion.summary)"
      ]
    },
    {
      "cell_type": "code",
      "execution_count": null,
      "metadata": {
        "id": "UhukUmpni1Au",
        "colab": {
          "base_uri": "https://localhost:8080/"
        },
        "outputId": "d8694b22-4444-443d-e91e-d45ac4ee54b6"
      },
      "outputs": [
        {
          "output_type": "stream",
          "name": "stdout",
          "text": [
            "https://es.wikipedia.org/wiki/Programaci%C3%B3n\n"
          ]
        }
      ],
      "source": [
        "# Url completa\n",
        "print(wikipedia_programacion.fullurl)"
      ]
    },
    {
      "cell_type": "markdown",
      "metadata": {
        "id": "g-ZRRKjv8b4e"
      },
      "source": [
        "# **BeautifulSoup**\n",
        "Documentación oficial: https://beautiful-soup-4.readthedocs.io/en/latest/"
      ]
    },
    {
      "cell_type": "markdown",
      "metadata": {
        "id": "BGXRo8BWtIDc"
      },
      "source": [
        "## **Generalidades**\n",
        "\n",
        "Vamos a practicar con https://scrapepark.org/spanish/\n"
      ]
    },
    {
      "cell_type": "code",
      "execution_count": null,
      "metadata": {
        "id": "DemLUNc7d_W7"
      },
      "outputs": [],
      "source": [
        "from bs4 import BeautifulSoup\n",
        "import requests"
      ]
    },
    {
      "cell_type": "code",
      "execution_count": null,
      "metadata": {
        "id": "T5XplMATeVXQ",
        "colab": {
          "base_uri": "https://localhost:8080/"
        },
        "outputId": "5b1d390c-81e5-4818-a16f-b95351aa4715"
      },
      "outputs": [
        {
          "output_type": "stream",
          "name": "stdout",
          "text": [
            "Versión de BeautifulSoup: 4.11.2\n",
            "Versión de requests: 2.31.0\n"
          ]
        }
      ],
      "source": [
        "# Versiones\n",
        "import bs4 # Solo para el chequeo\n",
        "print(\"Versión de BeautifulSoup:\",bs4.__version__)\n",
        "print(\"Versión de requests:\", requests.__version__)"
      ]
    },
    {
      "cell_type": "code",
      "execution_count": null,
      "metadata": {
        "id": "OOJxCTeb2Sys"
      },
      "outputs": [],
      "source": [
        "# En caso de no tener la versión que se usa en este curso\n",
        "!pip3 install beautifulsoup4==4.11.2\n",
        "!pip3 install requests==2.27.1"
      ]
    },
    {
      "cell_type": "code",
      "execution_count": null,
      "metadata": {
        "id": "YLnDRuoftSDX"
      },
      "outputs": [],
      "source": [
        "# Empezamos el scraping\n",
        "\n",
        "# 1. Obtener el HTML\n",
        "URL_BASE = 'https://scrapepark.org/courses/spanish/'\n",
        "pedido_obtenido = requests.get(URL_BASE)\n",
        "html_obtenido = pedido_obtenido.text\n",
        "\n",
        "# 2. \"Parsear\" ese HTML\n",
        "soup = BeautifulSoup(html_obtenido, \"html.parser\")"
      ]
    },
    {
      "cell_type": "code",
      "execution_count": null,
      "metadata": {
        "id": "O1lXQ39Ao64s",
        "colab": {
          "base_uri": "https://localhost:8080/"
        },
        "outputId": "8f5f0761-9759-4568-f640-43c86db59746"
      },
      "outputs": [
        {
          "output_type": "execute_result",
          "data": {
            "text/plain": [
              "bs4.BeautifulSoup"
            ]
          },
          "metadata": {},
          "execution_count": 26
        }
      ],
      "source": [
        "type(soup)"
      ]
    },
    {
      "cell_type": "markdown",
      "metadata": {
        "id": "AS5-q5L-eLZ_"
      },
      "source": [
        "## **El método `find()`**\n",
        "\n",
        "Nos permite quedarnos con la información asociada a una etiqueta de HTML"
      ]
    },
    {
      "cell_type": "code",
      "execution_count": null,
      "metadata": {
        "id": "Jo7AkWAhh23W",
        "colab": {
          "base_uri": "https://localhost:8080/"
        },
        "outputId": "35956d3c-d163-40ab-b5bc-acb96c2873e3"
      },
      "outputs": [
        {
          "output_type": "stream",
          "name": "stdout",
          "text": [
            "<h2>¿Por qué comprar con nosotros?</h2>\n"
          ]
        }
      ],
      "source": [
        "primer_h2 = soup.find('h2')\n",
        "print(primer_h2)"
      ]
    },
    {
      "cell_type": "code",
      "execution_count": null,
      "metadata": {
        "id": "jP47spPBiYfB",
        "colab": {
          "base_uri": "https://localhost:8080/"
        },
        "outputId": "5f378178-4618-43c0-9623-a5c552ab136f"
      },
      "outputs": [
        {
          "output_type": "stream",
          "name": "stdout",
          "text": [
            "¿Por qué comprar con nosotros?\n"
          ]
        }
      ],
      "source": [
        "# Solo el texto\n",
        "print(primer_h2.text)\n",
        "\n",
        "# equivalente a:\n",
        "# print(soup.h2.text)"
      ]
    },
    {
      "cell_type": "markdown",
      "metadata": {
        "id": "MFO_d99OeavG"
      },
      "source": [
        "## **El método `find_all()`**\n",
        "\n",
        "Busca **TODOS** los elementos de la página con esa etiqueta y devuelve una \"lista\" que los contiene (en realidad devuelve un objeto de la clase *bs4.element.ResultSet*)."
      ]
    },
    {
      "cell_type": "code",
      "execution_count": null,
      "metadata": {
        "id": "6YlYosUFmc66",
        "colab": {
          "base_uri": "https://localhost:8080/"
        },
        "outputId": "c8077533-71f7-4a43-b847-402c5c606a9a"
      },
      "outputs": [
        {
          "output_type": "stream",
          "name": "stdout",
          "text": [
            "[<h2>¿Por qué comprar con nosotros?</h2>, <h2>\r\n",
            "                  #Novedades\r\n",
            "                </h2>, <h2>\r\n",
            "            Nuestros <span>productos</span>\n",
            "</h2>, <h2>\r\n",
            "            Testimonios de clientes\r\n",
            "          </h2>, <h2 class=\"heading-container\">\r\n",
            "          Tabla de precios\r\n",
            "        </h2>]\n"
          ]
        }
      ],
      "source": [
        "h2_todos = soup.find_all('h2')\n",
        "print(h2_todos)"
      ]
    },
    {
      "cell_type": "code",
      "execution_count": null,
      "metadata": {
        "id": "Az5VWD8qh5XP",
        "colab": {
          "base_uri": "https://localhost:8080/"
        },
        "outputId": "907beeb6-e52e-4349-a0f2-427a093dc707"
      },
      "outputs": [
        {
          "output_type": "stream",
          "name": "stdout",
          "text": [
            "[<h2>¿Por qué comprar con nosotros?</h2>]\n"
          ]
        }
      ],
      "source": [
        "# ARGUMENTOS\n",
        "# Si usamos el parametro limit = 1, emulamos al metodo find\n",
        "h2_uno_solo = soup.find_all('h2',limit=1)\n",
        "print(h2_uno_solo)"
      ]
    },
    {
      "cell_type": "code",
      "execution_count": null,
      "metadata": {
        "id": "g_pjutuZh9wz",
        "colab": {
          "base_uri": "https://localhost:8080/"
        },
        "outputId": "fcd9fd0a-ca17-499f-a57a-3e054993c3db"
      },
      "outputs": [
        {
          "output_type": "stream",
          "name": "stdout",
          "text": [
            "¿Por qué comprar con nosotros?\n",
            "\r\n",
            "                  #Novedades\r\n",
            "                \n",
            "\r\n",
            "            Nuestros productos\n",
            "\n",
            "\r\n",
            "            Testimonios de clientes\r\n",
            "          \n",
            "\r\n",
            "          Tabla de precios\r\n",
            "        \n"
          ]
        }
      ],
      "source": [
        "# Podemos iterar sobre el objeto\n",
        "for seccion in h2_todos:\n",
        "  print(seccion.text)"
      ]
    },
    {
      "cell_type": "code",
      "execution_count": null,
      "metadata": {
        "id": "Vm5TjiHV4lCR",
        "colab": {
          "base_uri": "https://localhost:8080/"
        },
        "outputId": "7a1fd1ef-fb69-4e32-b958-7dee046b364f"
      },
      "outputs": [
        {
          "output_type": "stream",
          "name": "stdout",
          "text": [
            "¿Por qué comprar con nosotros?\n",
            "#Novedades\n",
            "Nuestrosproductos\n",
            "Testimonios de clientes\n",
            "Tabla de precios\n"
          ]
        }
      ],
      "source": [
        "# get_text() para más funcionalidades\n",
        "for seccion in h2_todos:\n",
        "  print(seccion.get_text(strip=True))"
      ]
    },
    {
      "cell_type": "markdown",
      "metadata": {
        "id": "H936ZYAerBXJ"
      },
      "source": [
        "## **Utilizando atributos de las etiquetas**\n",
        "\n"
      ]
    },
    {
      "cell_type": "code",
      "execution_count": null,
      "metadata": {
        "id": "GyPbqaejp4is",
        "colab": {
          "base_uri": "https://localhost:8080/"
        },
        "outputId": "2dfe38d8-dad1-473e-c7d7-dd80a7b91628"
      },
      "outputs": [
        {
          "output_type": "stream",
          "name": "stdout",
          "text": [
            "<div class=\"heading-container heading-center\" id=\"acerca\">\n",
            "<h2>¿Por qué comprar con nosotros?</h2>\n",
            "</div>\n",
            " \n",
            "<div class=\"heading-container heading-center\" id=\"productos\">\n",
            "<h2>\r\n",
            "            Nuestros <span>productos</span>\n",
            "</h2>\n",
            "</div>\n",
            " \n",
            "<div class=\"heading-container heading-center\">\n",
            "<h3>Suscríbete para obtener descuentos y ofertas</h3>\n",
            "</div>\n",
            " \n",
            "<div class=\"heading-container heading-center\">\n",
            "<h2>\r\n",
            "            Testimonios de clientes\r\n",
            "          </h2>\n",
            "</div>\n",
            " \n"
          ]
        }
      ],
      "source": [
        "# Clase\n",
        "divs = soup.find_all('div', class_ = \"heading-container heading-center\")\n",
        "\n",
        "for div in divs:\n",
        "  print(div)\n",
        "  print(\" \")"
      ]
    },
    {
      "cell_type": "code",
      "execution_count": null,
      "metadata": {
        "id": "fVxip8F0iEYA",
        "colab": {
          "base_uri": "https://localhost:8080/"
        },
        "outputId": "60a015ab-e89a-4c3d-ce65-7b9e5c71e219"
      },
      "outputs": [
        {
          "output_type": "stream",
          "name": "stdout",
          "text": [
            "<img alt=\"Parque de patinaje\" src=\"images/slider-bg.jpg\"/>\n",
            "<img alt=\"Patineta 2\" src=\"images/p2.jpg\"/>\n"
          ]
        }
      ],
      "source": [
        "# Todas las etiquetas que tengan el atributo \"src\"\n",
        "src_todos = soup.find_all(src=True)\n",
        "\n",
        "for elemento in src_todos:\n",
        "  if elemento['src'].endswith(\".jpg\"):\n",
        "    print(elemento)\n",
        "\n",
        "# src_todos"
      ]
    },
    {
      "cell_type": "code",
      "execution_count": null,
      "metadata": {
        "id": "pm4eVZCW6jjD",
        "colab": {
          "base_uri": "https://localhost:8080/"
        },
        "outputId": "68c4c383-645c-4c37-825b-85fcc58d2db7"
      },
      "outputs": [
        {
          "output_type": "stream",
          "name": "stdout",
          "text": [
            "images/arrival-bg-store.png\n",
            "images/p1.png\n",
            "images/p3.png\n",
            "images/p4.png\n",
            "images/p5.png\n",
            "images/p6.png\n",
            "images/p7.png\n",
            "images/p8.png\n",
            "images/p9.png\n",
            "images/p10.png\n",
            "images/p11.png\n",
            "images/p12.png\n",
            "images/client-one.png\n",
            "images/client-two.png\n",
            "images/client-three.png\n",
            "./images/freecodecamp-logo.png\n"
          ]
        }
      ],
      "source": [
        "#@title Ejercicio: Bajar todas las imagenes!\n",
        "\n",
        "url_imagenes = []\n",
        "\n",
        "for i, imagen in enumerate(src_todos):\n",
        "\n",
        "  if imagen['src'].endswith('png'):\n",
        "\n",
        "    print(imagen['src'])\n",
        "    r = requests.get(f\"https://scrapepark.org/courses/spanish/{imagen['src']}\")\n",
        "\n",
        "    with open(f'imagen_{i}.png', 'wb') as f:\n",
        "      f.write(r.content)"
      ]
    },
    {
      "cell_type": "markdown",
      "metadata": {
        "id": "nxurw0jxiwm0"
      },
      "source": [
        "## **Tablas**"
      ]
    },
    {
      "cell_type": "code",
      "execution_count": null,
      "metadata": {
        "id": "YyqtIpXMw9sx",
        "colab": {
          "base_uri": "https://localhost:8080/",
          "height": 36
        },
        "outputId": "bddd506a-92f6-41ac-a50f-87272a2e5c78"
      },
      "outputs": [
        {
          "output_type": "execute_result",
          "data": {
            "text/plain": [
              "'table.html'"
            ],
            "application/vnd.google.colaboratory.intrinsic+json": {
              "type": "string"
            }
          },
          "metadata": {},
          "execution_count": 38
        }
      ],
      "source": [
        "soup.find_all('iframe')[0]['src']"
      ]
    },
    {
      "cell_type": "code",
      "execution_count": null,
      "metadata": {
        "id": "qvrCha4Qwz1P",
        "colab": {
          "base_uri": "https://localhost:8080/"
        },
        "outputId": "bb1869f5-1414-4d28-f3d9-457c686af60b"
      },
      "outputs": [
        {
          "output_type": "stream",
          "name": "stdout",
          "text": [
            "['Longboard', '$80', '$85', '$90', '$62', '$150']\n"
          ]
        }
      ],
      "source": [
        "# Información de tablas\n",
        "\n",
        "URL_BASE = 'https://scrapepark.org/courses/spanish'\n",
        "URL_TABLA = soup.find_all('iframe')[0]['src']\n",
        "\n",
        "request_tabla = requests.get(f'{URL_BASE}/{URL_TABLA}')\n",
        "\n",
        "html_tabla = request_tabla.text\n",
        "soup_tabla = BeautifulSoup(html_tabla, \"html.parser\")\n",
        "soup_tabla.find('table')\n",
        "\n",
        "productos_faltantes = soup_tabla.find_all(['th', 'td'], attrs={'style':'color: red;'})\n",
        "productos_faltantes = [talle.text for talle in productos_faltantes]\n",
        "\n",
        "print(productos_faltantes)"
      ]
    },
    {
      "cell_type": "code",
      "execution_count": null,
      "metadata": {
        "id": "OWDrRpN14mkR",
        "colab": {
          "base_uri": "https://localhost:8080/"
        },
        "outputId": "7478829a-88d3-4c0b-a5fc-54ae2fd2dc09"
      },
      "outputs": [
        {
          "output_type": "stream",
          "name": "stdout",
          "text": [
            "producto: Patineta Nueva 1  | precio: 75\n",
            "producto: Patineta Usada 2  | precio: 80\n",
            "producto: Patineta Nueva 3  | precio: 68\n",
            "producto: Patineta Usada 4  | precio: 70\n",
            "producto: Patineta Nueva 5  | precio: 75\n",
            "producto: Patineta Nueva 6  | precio: 58\n",
            "producto: Patineta Nueva 7  | precio: 80\n",
            "producto: Patineta Nueva 8  | precio: 35\n",
            "producto: Patineta Nueva 9  | precio: 165\n",
            "producto: Patineta Usada 10 | precio: 54\n",
            "producto: Patineta Usada 11 | precio: 99\n",
            "producto: Patineta Nueva 12 | precio: 110\n"
          ]
        }
      ],
      "source": [
        "divs = soup.find_all('div', class_='detail-box')\n",
        "productos = []\n",
        "precios = []\n",
        "\n",
        "for div in divs:\n",
        "  if (div.h6 is not None) and ('Patineta' in div.h5.text):\n",
        "    producto = div.h5.get_text(strip=True)\n",
        "    precio = div.h6.get_text(strip=True).replace('$', '')\n",
        "    # Se puede agregar filtros\n",
        "    print(f'producto: {producto:<17} | precio: {precio}')\n",
        "    productos.append(producto)\n",
        "    precios.append(precio)"
      ]
    },
    {
      "cell_type": "code",
      "execution_count": null,
      "metadata": {
        "id": "fFOxFOsRretL",
        "colab": {
          "base_uri": "https://localhost:8080/"
        },
        "outputId": "82909110-b9e1-467a-e1b5-4a0e3a0c193d"
      },
      "outputs": [
        {
          "output_type": "execute_result",
          "data": {
            "text/plain": [
              "['75', '80', '68', '70', '75', '58', '80', '35', '165', '54', '99', '110']"
            ]
          },
          "metadata": {},
          "execution_count": 42
        }
      ],
      "source": [
        "precios"
      ]
    },
    {
      "cell_type": "code",
      "execution_count": null,
      "metadata": {
        "id": "guSnGHLIrcp_",
        "colab": {
          "base_uri": "https://localhost:8080/"
        },
        "outputId": "d39709c7-5b0f-46e9-811b-9a6aa7ac106d"
      },
      "outputs": [
        {
          "output_type": "execute_result",
          "data": {
            "text/plain": [
              "['Patineta Nueva 1',\n",
              " 'Patineta Usada 2',\n",
              " 'Patineta Nueva 3',\n",
              " 'Patineta Usada 4',\n",
              " 'Patineta Nueva 5',\n",
              " 'Patineta Nueva 6',\n",
              " 'Patineta Nueva 7',\n",
              " 'Patineta Nueva 8',\n",
              " 'Patineta Nueva 9',\n",
              " 'Patineta Usada 10',\n",
              " 'Patineta Usada 11',\n",
              " 'Patineta Nueva 12']"
            ]
          },
          "metadata": {},
          "execution_count": 43
        }
      ],
      "source": [
        "productos"
      ]
    },
    {
      "cell_type": "markdown",
      "metadata": {
        "id": "2QphGTciOnZS"
      },
      "source": [
        "## **Cambios que dependen de la URL**"
      ]
    },
    {
      "cell_type": "code",
      "execution_count": null,
      "metadata": {
        "id": "zW_XZj6TOqar",
        "colab": {
          "base_uri": "https://localhost:8080/"
        },
        "outputId": "9efeb891-0370-4168-c742-fbbb24f5d513"
      },
      "outputs": [
        {
          "output_type": "stream",
          "name": "stdout",
          "text": [
            "https://scrapepark.org/courses/spanish/contact1\n",
            "Texto que cambia entre páginas en contacto 1 :)\n",
            "https://scrapepark.org/courses/spanish/contact2\n",
            "Texto que cambia entre páginas en contacto 2 :)\n"
          ]
        }
      ],
      "source": [
        "URL_BASE = \"https://scrapepark.org/courses/spanish/contact\"\n",
        "\n",
        "for i in range(1,3):\n",
        "  URL_FINAL = f\"{URL_BASE}{i}\"\n",
        "  print(URL_FINAL)\n",
        "  r = requests.get(URL_FINAL)\n",
        "  soup = BeautifulSoup(r.text, \"html.parser\")\n",
        "  print(soup.h5.text)"
      ]
    },
    {
      "cell_type": "markdown",
      "metadata": {
        "id": "mRw2htzlj9Wr"
      },
      "source": [
        "## **Datos que no sabemos en que parte de la página se encuentran**"
      ]
    },
    {
      "cell_type": "code",
      "execution_count": null,
      "metadata": {
        "id": "SClwgT23kDb_",
        "colab": {
          "base_uri": "https://localhost:8080/"
        },
        "outputId": "c6e377e3-05da-4d4d-9d7c-8da1864cb612"
      },
      "outputs": [
        {
          "output_type": "execute_result",
          "data": {
            "text/plain": [
              "[' 4-444-4444']"
            ]
          },
          "metadata": {},
          "execution_count": 45
        }
      ],
      "source": [
        "# Expresiones regulares\n",
        "import re\n",
        "\n",
        "# 1. Obtener el HTML\n",
        "URL_BASE = 'https://scrapepark.org/courses/spanish'\n",
        "pedido_obtenido = requests.get(URL_BASE)\n",
        "html_obtenido = pedido_obtenido.text\n",
        "\n",
        "# 2. \"Parsear\" ese HTML\n",
        "soup = BeautifulSoup(html_obtenido, \"html.parser\")\n",
        "\n",
        "telefonos = soup.find_all(string=re.compile(\"\\d+-\\d+-\\d+\"))\n",
        "telefonos"
      ]
    },
    {
      "cell_type": "markdown",
      "metadata": {
        "id": "1Sq_ZX03oPQ8"
      },
      "source": [
        "## **Moviéndonos por el árbol**\n",
        "\n",
        "Para saber más: https://www.crummy.com/software/BeautifulSoup/bs4/doc/#searching-the-tree"
      ]
    },
    {
      "cell_type": "code",
      "execution_count": null,
      "metadata": {
        "id": "QqzYlp0jnxAA",
        "colab": {
          "base_uri": "https://localhost:8080/",
          "height": 36
        },
        "outputId": "7bba8e7d-6ef3-47b7-8bf8-d294331df0b3"
      },
      "outputs": [
        {
          "output_type": "execute_result",
          "data": {
            "text/plain": [
              "'© 2022 '"
            ],
            "application/vnd.google.colaboratory.intrinsic+json": {
              "type": "string"
            }
          },
          "metadata": {},
          "execution_count": 46
        }
      ],
      "source": [
        "copyrights = soup.find_all(string=re.compile(\"©\"))\n",
        "copyrights[0]"
      ]
    },
    {
      "cell_type": "code",
      "execution_count": null,
      "metadata": {
        "id": "BYaiCi_tuSek",
        "colab": {
          "base_uri": "https://localhost:8080/"
        },
        "outputId": "77848cbd-8273-43b2-8ca6-a0554b2928dc"
      },
      "outputs": [
        {
          "output_type": "execute_result",
          "data": {
            "text/plain": [
              "<p>© 2022 <span>Todos los derechos reservados</span>.\n",
              "        <a href=\"https://html.design/\" rel=\"noopener noreferrer\" target=\"_blank\">Creado con Free Html Templates</a>.\n",
              "      </p>"
            ]
          },
          "metadata": {},
          "execution_count": 47
        }
      ],
      "source": [
        "primer_copyright = copyrights[0]\n",
        "primer_copyright.parent"
      ]
    },
    {
      "cell_type": "code",
      "execution_count": null,
      "metadata": {
        "id": "GDlAB53SuDf6",
        "colab": {
          "base_uri": "https://localhost:8080/"
        },
        "outputId": "ef53c472-d1bd-4bf5-f8cd-d8469550cd0a"
      },
      "outputs": [
        {
          "output_type": "execute_result",
          "data": {
            "text/plain": [
              "[<ul>\n",
              " <li><a href=\"#\">Inicio</a></li>\n",
              " <li><a href=\"#\">Acerca</a></li>\n",
              " <li><a href=\"#\">Servicios</a></li>\n",
              " <li><a href=\"#\">Testimonios</a></li>\n",
              " <li><a href=\"#\">Contacto</a></li>\n",
              " </ul>]"
            ]
          },
          "metadata": {},
          "execution_count": 48
        }
      ],
      "source": [
        "# # Otro ejemplo con elementos al mismo nivel\n",
        "menu = soup.find(string=re.compile(\"MENÚ\"))\n",
        "# menu.parent\n",
        "menu.parent.find_next_siblings()"
      ]
    },
    {
      "cell_type": "markdown",
      "metadata": {
        "id": "IrUz6btarWj6"
      },
      "source": [
        "## **Comentario sobre excepciones**\n",
        "https://docs.python.org/es/3/tutorial/errors.html"
      ]
    },
    {
      "cell_type": "code",
      "execution_count": null,
      "metadata": {
        "id": "iSgBLoDFrs3I",
        "colab": {
          "base_uri": "https://localhost:8080/"
        },
        "outputId": "13c88728-0351-4c97-afaf-b7f4ab87c009"
      },
      "outputs": [
        {
          "output_type": "stream",
          "name": "stdout",
          "text": [
            "MENÚ\n",
            "© 2022 \n",
            "El string 'carpincho' no fue encontrado\n",
            "\r\n",
            "                  Patineta Nueva 1\r\n",
            "                \n"
          ]
        }
      ],
      "source": [
        "strings_a_buscar = [\"MENÚ\", \"©\", \"carpincho\", \"Patineta\"]\n",
        "\n",
        "for string in strings_a_buscar:\n",
        "  try:\n",
        "    resultado = soup.find(string=re.compile(string))\n",
        "    print(resultado.text)\n",
        "  except AttributeError:\n",
        "    print(f\"El string '{string}' no fue encontrado\")"
      ]
    },
    {
      "cell_type": "markdown",
      "metadata": {
        "id": "rnyPln5D4dsg"
      },
      "source": [
        "## **Almacenamiento de los datos**"
      ]
    },
    {
      "cell_type": "code",
      "execution_count": null,
      "metadata": {
        "id": "MizBsJA3gCQt"
      },
      "outputs": [],
      "source": [
        "productos.insert(0, \"productos\")\n",
        "precios.insert(0, \"precios\")\n",
        "# datos = dict(zip(productos, precios))"
      ]
    },
    {
      "cell_type": "code",
      "execution_count": null,
      "metadata": {
        "id": "qXUvdB2Mx5WD"
      },
      "outputs": [],
      "source": [
        "datos = dict(zip(productos, precios))"
      ]
    },
    {
      "cell_type": "code",
      "execution_count": null,
      "metadata": {
        "id": "tsss7E0Ny4mU",
        "colab": {
          "base_uri": "https://localhost:8080/"
        },
        "outputId": "367bea59-f7ef-44eb-e7a2-8ee737731b5b"
      },
      "outputs": [
        {
          "output_type": "execute_result",
          "data": {
            "text/plain": [
              "dict_items([('productos', 'precios'), ('Patineta Nueva 1', '75'), ('Patineta Usada 2', '80'), ('Patineta Nueva 3', '68'), ('Patineta Usada 4', '70'), ('Patineta Nueva 5', '75'), ('Patineta Nueva 6', '58'), ('Patineta Nueva 7', '80'), ('Patineta Nueva 8', '35'), ('Patineta Nueva 9', '165'), ('Patineta Usada 10', '54'), ('Patineta Usada 11', '99'), ('Patineta Nueva 12', '110')])"
            ]
          },
          "metadata": {},
          "execution_count": 52
        }
      ],
      "source": [
        "datos.items()"
      ]
    },
    {
      "cell_type": "code",
      "execution_count": null,
      "metadata": {
        "id": "YcIts8u56tA7"
      },
      "outputs": [],
      "source": [
        "import csv\n",
        "\n",
        "with open('datos.csv','w') as f:\n",
        "    w = csv.writer(f)\n",
        "    w.writerows(datos.items())"
      ]
    },
    {
      "cell_type": "markdown",
      "metadata": {
        "id": "oEHvwn9Xw0sf"
      },
      "source": [
        "**BONUS!**\n",
        "Algunos ejercicios para seguir practicando:\n",
        "\n",
        "1. Las patinetas que salgan menos que $68\n",
        "2. Las patinetas que en su nombre tengan un numero mayor a 3\n",
        "3. Traer cualquier texto de la pagina que tenga la palabra descuento u oferta.\n",
        "5. Generar un archivo .csv con dos columnas: Una conteniendo el nombre del cliente y otra su testimonio."
      ]
    },
    {
      "cell_type": "code",
      "execution_count": null,
      "metadata": {
        "id": "eCpy9QPW8Dwd"
      },
      "outputs": [],
      "source": []
    },
    {
      "cell_type": "markdown",
      "source": [
        "Las patinetas que salgan menos que $68"
      ],
      "metadata": {
        "id": "uhCw_lX_AE_2"
      }
    },
    {
      "cell_type": "code",
      "source": [
        "divs = soup.find_all('div', class_='detail-box')\n",
        "productos = []\n",
        "precios = []\n",
        "\n",
        "for div in divs:\n",
        "    if (div.h6 is not None) and ('Patineta' in div.h5.text):\n",
        "        producto = div.h5.get_text(strip=True)\n",
        "        precio = div.h6.get_text(strip=True).replace('$', '')\n",
        "        if int(precio) < 68:\n",
        "            print(f'Producto: {producto} | Precio: {precio}')\n",
        "            productos.append(producto)\n",
        "            precios.append(precio)\n"
      ],
      "metadata": {
        "colab": {
          "base_uri": "https://localhost:8080/"
        },
        "id": "lfr-hTddAHSL",
        "outputId": "6b745ed1-d9ac-43ae-fe47-d54e9517e292"
      },
      "execution_count": null,
      "outputs": [
        {
          "output_type": "stream",
          "name": "stdout",
          "text": [
            "Producto: Patineta Nueva 6 | Precio: 58\n",
            "Producto: Patineta Nueva 8 | Precio: 35\n",
            "Producto: Patineta Usada 10 | Precio: 54\n"
          ]
        }
      ]
    },
    {
      "cell_type": "markdown",
      "source": [
        "Las patinetas cuyo nombre contiene un número mayor a 3\n"
      ],
      "metadata": {
        "id": "AngzSqT2AUuo"
      }
    },
    {
      "cell_type": "code",
      "source": [
        "divs = soup.find_all('div', class_='detail-box')\n",
        "productos = []\n",
        "\n",
        "for div in divs:\n",
        "    if (div.h6 is not None) and ('Patineta' in div.h5.text):\n",
        "        producto = div.h5.get_text(strip=True)\n",
        "        if any(char.isdigit() and int(char) > 3 for char in producto):\n",
        "            print(f'Producto: {producto}')\n",
        "            productos.append(producto)\n"
      ],
      "metadata": {
        "colab": {
          "base_uri": "https://localhost:8080/"
        },
        "id": "9FjSRb99AXos",
        "outputId": "da1d8875-3ae5-4351-d7bf-1fbaaff9a159"
      },
      "execution_count": null,
      "outputs": [
        {
          "output_type": "stream",
          "name": "stdout",
          "text": [
            "Producto: Patineta Usada 4\n",
            "Producto: Patineta Nueva 5\n",
            "Producto: Patineta Nueva 6\n",
            "Producto: Patineta Nueva 7\n",
            "Producto: Patineta Nueva 8\n",
            "Producto: Patineta Nueva 9\n"
          ]
        }
      ]
    },
    {
      "cell_type": "markdown",
      "source": [
        "Texto de la página con las palabras \"descuento\" u \"oferta\""
      ],
      "metadata": {
        "id": "_MI3IGVJAmVY"
      }
    },
    {
      "cell_type": "code",
      "source": [
        "textos = soup.find_all(string=re.compile(r'descuento|oferta', flags=re.IGNORECASE))\n",
        "\n",
        "for i, texto in enumerate(textos, start=1):\n",
        "    print(f\"{i}. {texto}\")\n"
      ],
      "metadata": {
        "colab": {
          "base_uri": "https://localhost:8080/"
        },
        "id": "YjWA5PABApiO",
        "outputId": "83e3b650-708d-4b07-fde1-57ca35dde185"
      },
      "execution_count": null,
      "outputs": [
        {
          "output_type": "stream",
          "name": "stdout",
          "text": [
            "1. \r\n",
            "                          Descuentos 20% Off\r\n",
            "                        \n",
            "2. \r\n",
            "                        Aprovechá nuestras ofertas.\r\n",
            "                      \n",
            "3. \r\n",
            "                          Descuentos 20% Off\r\n",
            "                        \n",
            "4. \r\n",
            "                        Aprovechá nuestras ofertas.\r\n",
            "                      \n",
            "5. \r\n",
            "                          Descuentos 20% Off\r\n",
            "                        \n",
            "6. \r\n",
            "                        Aprovechá nuestras ofertas.\r\n",
            "                      \n",
            "7. Suscríbete para obtener descuentos y ofertas\n"
          ]
        }
      ]
    },
    {
      "cell_type": "markdown",
      "source": [
        "Generar un archivo .csv con dos columnas, nombre del cliente y testimonio"
      ],
      "metadata": {
        "id": "8Cvtt-EVAyX9"
      }
    },
    {
      "cell_type": "code",
      "source": [
        "# Supongamos que tenemos una lista de clientes y sus testimonios\n",
        "clientes = [\"Cliente1\", \"Cliente2\", \"Cliente3\"]\n",
        "testimonios = [\"Excelente servicio\", \"Muy satisfecho con el producto\", \"Recomiendo esta empresa\"]\n",
        "\n",
        "# Crear un diccionario con los datos\n",
        "datos = {\"Nombre del Cliente\": clientes, \"Testimonio\": testimonios}\n",
        "\n",
        "import csv\n",
        "\n",
        "# Escribir los datos en un archivo CSV\n",
        "with open('testimonios.csv', 'w', newline='') as csvfile:\n",
        "    fieldnames = ['Nombre del Cliente', 'Testimonio']\n",
        "    writer = csv.DictWriter(csvfile, fieldnames=fieldnames)\n",
        "\n",
        "    writer.writeheader()\n",
        "    for i in range(len(clientes)):\n",
        "        writer.writerow({'Nombre del Cliente': clientes[i], 'Testimonio': testimonios[i]})\n",
        "\n",
        "print(\"Archivo CSV generado exitosamente.\")\n"
      ],
      "metadata": {
        "colab": {
          "base_uri": "https://localhost:8080/"
        },
        "id": "WKYO_7uRA1SU",
        "outputId": "b310db69-3c67-4a07-e5ac-e70ee32596c7"
      },
      "execution_count": null,
      "outputs": [
        {
          "output_type": "stream",
          "name": "stdout",
          "text": [
            "Archivo CSV generado exitosamente.\n"
          ]
        }
      ]
    },
    {
      "cell_type": "markdown",
      "source": [
        "https://colab.research.google.com/drive/1hrdzi2JqttrbYtEh2FqidNPu7d68C7uj?usp=sharing"
      ],
      "metadata": {
        "id": "cd5HmF4w6-BE"
      }
    }
  ],
  "metadata": {
    "colab": {
      "provenance": []
    },
    "kernelspec": {
      "display_name": "Python 3",
      "name": "python3"
    },
    "language_info": {
      "name": "python"
    }
  },
  "nbformat": 4,
  "nbformat_minor": 0
}